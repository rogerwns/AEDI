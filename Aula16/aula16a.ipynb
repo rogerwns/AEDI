{
 "cells": [
  {
   "cell_type": "markdown",
   "id": "f736ffd4",
   "metadata": {},
   "source": [
    "# AULA 16 - Noções do pacote PANDAS -  parte A\n",
    "## Algoritmos e Estrutura de Dados I - Prof. Piva\n",
    "-----------"
   ]
  },
  {
   "cell_type": "markdown",
   "id": "5b80acaa",
   "metadata": {},
   "source": [
    "### Instalação do Pandas\n",
    "Podemos instalar uma versão específica do Pandas com o seguinte comando:\n",
    "**!pip install -q pandas==1.5.3**"
   ]
  },
  {
   "cell_type": "code",
   "execution_count": 15,
   "id": "322d402e",
   "metadata": {},
   "outputs": [],
   "source": [
    "# Instalação de uma versão exata do pacote Pandas\n",
    "!pip install -q pandas==2.2.2"
   ]
  },
  {
   "cell_type": "code",
   "execution_count": 25,
   "id": "14f5bb40",
   "metadata": {},
   "outputs": [],
   "source": [
    "# Importação do pacote Pandas para utilização\n",
    "#from pandas import Dataframe"
   ]
  },
  {
   "cell_type": "code",
   "execution_count": 19,
   "id": "3355e13c",
   "metadata": {},
   "outputs": [
    {
     "data": {
      "text/plain": [
       "'2.2.2'"
      ]
     },
     "execution_count": 19,
     "metadata": {},
     "output_type": "execute_result"
    }
   ],
   "source": [
    "# Verificando a versão do Pandas\n",
    "pd.__version__"
   ]
  },
  {
   "cell_type": "markdown",
   "id": "8385237f",
   "metadata": {},
   "source": [
    "### Manipulando dados em DataFrames"
   ]
  },
  {
   "cell_type": "code",
   "execution_count": 21,
   "id": "c82cf75b",
   "metadata": {},
   "outputs": [],
   "source": [
    "# Criando um dicionário\n",
    "dados = {'Cidade': ['Sorocaba', 'Campinas', 'São Paulo', 'Ribeirão Preto', 'Jundiaí'],\n",
    "          'Ano': [2018, 2019, 2020, 2021, 2022],\n",
    "          'Taxa Desemprego': [1.6, 1.8, 1.9, 1.2, 1.0]}"
   ]
  },
  {
   "cell_type": "code",
   "execution_count": 22,
   "id": "55cfde91",
   "metadata": {},
   "outputs": [],
   "source": [
    "from pandas import DataFrame"
   ]
  },
  {
   "cell_type": "code",
   "execution_count": 23,
   "id": "e5b20f99",
   "metadata": {},
   "outputs": [],
   "source": [
    "# Converte um dicionário para um DataFrame\n",
    "df = DataFrame(dados)"
   ]
  },
  {
   "cell_type": "code",
   "execution_count": 24,
   "id": "2593032e",
   "metadata": {},
   "outputs": [
    {
     "data": {
      "text/html": [
       "<div>\n",
       "<style scoped>\n",
       "    .dataframe tbody tr th:only-of-type {\n",
       "        vertical-align: middle;\n",
       "    }\n",
       "\n",
       "    .dataframe tbody tr th {\n",
       "        vertical-align: top;\n",
       "    }\n",
       "\n",
       "    .dataframe thead th {\n",
       "        text-align: right;\n",
       "    }\n",
       "</style>\n",
       "<table border=\"1\" class=\"dataframe\">\n",
       "  <thead>\n",
       "    <tr style=\"text-align: right;\">\n",
       "      <th></th>\n",
       "      <th>Cidade</th>\n",
       "      <th>Ano</th>\n",
       "      <th>Taxa Desemprego</th>\n",
       "    </tr>\n",
       "  </thead>\n",
       "  <tbody>\n",
       "    <tr>\n",
       "      <th>0</th>\n",
       "      <td>Sorocaba</td>\n",
       "      <td>2018</td>\n",
       "      <td>1.6</td>\n",
       "    </tr>\n",
       "    <tr>\n",
       "      <th>1</th>\n",
       "      <td>Campinas</td>\n",
       "      <td>2019</td>\n",
       "      <td>1.8</td>\n",
       "    </tr>\n",
       "    <tr>\n",
       "      <th>2</th>\n",
       "      <td>São Paulo</td>\n",
       "      <td>2020</td>\n",
       "      <td>1.9</td>\n",
       "    </tr>\n",
       "    <tr>\n",
       "      <th>3</th>\n",
       "      <td>Ribeirão Preto</td>\n",
       "      <td>2021</td>\n",
       "      <td>1.2</td>\n",
       "    </tr>\n",
       "    <tr>\n",
       "      <th>4</th>\n",
       "      <td>Jundiaí</td>\n",
       "      <td>2022</td>\n",
       "      <td>1.0</td>\n",
       "    </tr>\n",
       "  </tbody>\n",
       "</table>\n",
       "</div>"
      ],
      "text/plain": [
       "           Cidade   Ano  Taxa Desemprego\n",
       "0        Sorocaba  2018              1.6\n",
       "1        Campinas  2019              1.8\n",
       "2       São Paulo  2020              1.9\n",
       "3  Ribeirão Preto  2021              1.2\n",
       "4         Jundiaí  2022              1.0"
      ]
     },
     "execution_count": 24,
     "metadata": {},
     "output_type": "execute_result"
    }
   ],
   "source": [
    "# Visualizar as 5  primeiras linhas do DataFrame criado\n",
    "df.head()"
   ]
  },
  {
   "cell_type": "code",
   "execution_count": 26,
   "id": "db2c05a5-f990-49a8-89c7-5ef6b13466c9",
   "metadata": {},
   "outputs": [
    {
     "data": {
      "text/html": [
       "<div>\n",
       "<style scoped>\n",
       "    .dataframe tbody tr th:only-of-type {\n",
       "        vertical-align: middle;\n",
       "    }\n",
       "\n",
       "    .dataframe tbody tr th {\n",
       "        vertical-align: top;\n",
       "    }\n",
       "\n",
       "    .dataframe thead th {\n",
       "        text-align: right;\n",
       "    }\n",
       "</style>\n",
       "<table border=\"1\" class=\"dataframe\">\n",
       "  <thead>\n",
       "    <tr style=\"text-align: right;\">\n",
       "      <th></th>\n",
       "      <th>Cidade</th>\n",
       "      <th>Ano</th>\n",
       "      <th>Taxa Desemprego</th>\n",
       "    </tr>\n",
       "  </thead>\n",
       "  <tbody>\n",
       "    <tr>\n",
       "      <th>0</th>\n",
       "      <td>Sorocaba</td>\n",
       "      <td>2018</td>\n",
       "      <td>1.6</td>\n",
       "    </tr>\n",
       "    <tr>\n",
       "      <th>1</th>\n",
       "      <td>Campinas</td>\n",
       "      <td>2019</td>\n",
       "      <td>1.8</td>\n",
       "    </tr>\n",
       "    <tr>\n",
       "      <th>2</th>\n",
       "      <td>São Paulo</td>\n",
       "      <td>2020</td>\n",
       "      <td>1.9</td>\n",
       "    </tr>\n",
       "    <tr>\n",
       "      <th>3</th>\n",
       "      <td>Ribeirão Preto</td>\n",
       "      <td>2021</td>\n",
       "      <td>1.2</td>\n",
       "    </tr>\n",
       "    <tr>\n",
       "      <th>4</th>\n",
       "      <td>Jundiaí</td>\n",
       "      <td>2022</td>\n",
       "      <td>1.0</td>\n",
       "    </tr>\n",
       "  </tbody>\n",
       "</table>\n",
       "</div>"
      ],
      "text/plain": [
       "           Cidade   Ano  Taxa Desemprego\n",
       "0        Sorocaba  2018              1.6\n",
       "1        Campinas  2019              1.8\n",
       "2       São Paulo  2020              1.9\n",
       "3  Ribeirão Preto  2021              1.2\n",
       "4         Jundiaí  2022              1.0"
      ]
     },
     "execution_count": 26,
     "metadata": {},
     "output_type": "execute_result"
    }
   ],
   "source": [
    "df.tail() # Visualizar os 5 últimos"
   ]
  },
  {
   "cell_type": "code",
   "execution_count": 27,
   "id": "5ec1e792",
   "metadata": {},
   "outputs": [
    {
     "data": {
      "text/plain": [
       "pandas.core.frame.DataFrame"
      ]
     },
     "execution_count": 27,
     "metadata": {},
     "output_type": "execute_result"
    }
   ],
   "source": [
    "#Verificando o tipo de dados do objeto df\n",
    "type(df)"
   ]
  },
  {
   "cell_type": "code",
   "execution_count": 28,
   "id": "2578a4dc",
   "metadata": {},
   "outputs": [
    {
     "data": {
      "text/html": [
       "<div>\n",
       "<style scoped>\n",
       "    .dataframe tbody tr th:only-of-type {\n",
       "        vertical-align: middle;\n",
       "    }\n",
       "\n",
       "    .dataframe tbody tr th {\n",
       "        vertical-align: top;\n",
       "    }\n",
       "\n",
       "    .dataframe thead th {\n",
       "        text-align: right;\n",
       "    }\n",
       "</style>\n",
       "<table border=\"1\" class=\"dataframe\">\n",
       "  <thead>\n",
       "    <tr style=\"text-align: right;\">\n",
       "      <th></th>\n",
       "      <th>Cidade</th>\n",
       "      <th>Taxa Desemprego</th>\n",
       "      <th>Ano</th>\n",
       "    </tr>\n",
       "  </thead>\n",
       "  <tbody>\n",
       "    <tr>\n",
       "      <th>0</th>\n",
       "      <td>Sorocaba</td>\n",
       "      <td>1.6</td>\n",
       "      <td>2018</td>\n",
       "    </tr>\n",
       "    <tr>\n",
       "      <th>1</th>\n",
       "      <td>Campinas</td>\n",
       "      <td>1.8</td>\n",
       "      <td>2019</td>\n",
       "    </tr>\n",
       "    <tr>\n",
       "      <th>2</th>\n",
       "      <td>São Paulo</td>\n",
       "      <td>1.9</td>\n",
       "      <td>2020</td>\n",
       "    </tr>\n",
       "    <tr>\n",
       "      <th>3</th>\n",
       "      <td>Ribeirão Preto</td>\n",
       "      <td>1.2</td>\n",
       "      <td>2021</td>\n",
       "    </tr>\n",
       "    <tr>\n",
       "      <th>4</th>\n",
       "      <td>Jundiaí</td>\n",
       "      <td>1.0</td>\n",
       "      <td>2022</td>\n",
       "    </tr>\n",
       "  </tbody>\n",
       "</table>\n",
       "</div>"
      ],
      "text/plain": [
       "           Cidade  Taxa Desemprego   Ano\n",
       "0        Sorocaba              1.6  2018\n",
       "1        Campinas              1.8  2019\n",
       "2       São Paulo              1.9  2020\n",
       "3  Ribeirão Preto              1.2  2021\n",
       "4         Jundiaí              1.0  2022"
      ]
     },
     "execution_count": 28,
     "metadata": {},
     "output_type": "execute_result"
    }
   ],
   "source": [
    "# Reorganizando as colunas do DataFrame\n",
    "DataFrame(dados, columns = ['Cidade', 'Taxa Desemprego', 'Ano'])"
   ]
  },
  {
   "cell_type": "code",
   "execution_count": 31,
   "id": "a8551a9f",
   "metadata": {},
   "outputs": [],
   "source": [
    "#Criando um outro dataframe, com os mesmos dados anteriores, acrescentando uma coluna e mudando o índice. #NaN = not a number\n",
    "df2 = DataFrame(dados,\n",
    "                columns = ['Cidade', 'Taxa Desemprego', 'Taxa Crescimento', 'Ano'],\n",
    "                index = ['Cidade1', 'Cidade2', 'Cidade3', 'Cidade4', 'Cidade5'])"
   ]
  },
  {
   "cell_type": "code",
   "execution_count": 48,
   "id": "b5c70a23",
   "metadata": {},
   "outputs": [
    {
     "data": {
      "text/html": [
       "<div>\n",
       "<style scoped>\n",
       "    .dataframe tbody tr th:only-of-type {\n",
       "        vertical-align: middle;\n",
       "    }\n",
       "\n",
       "    .dataframe tbody tr th {\n",
       "        vertical-align: top;\n",
       "    }\n",
       "\n",
       "    .dataframe thead th {\n",
       "        text-align: right;\n",
       "    }\n",
       "</style>\n",
       "<table border=\"1\" class=\"dataframe\">\n",
       "  <thead>\n",
       "    <tr style=\"text-align: right;\">\n",
       "      <th></th>\n",
       "      <th>Cidade</th>\n",
       "      <th>Taxa Desemprego</th>\n",
       "      <th>Taxa Crescimento</th>\n",
       "      <th>Ano</th>\n",
       "    </tr>\n",
       "  </thead>\n",
       "  <tbody>\n",
       "    <tr>\n",
       "      <th>Cidade1</th>\n",
       "      <td>Sorocaba</td>\n",
       "      <td>1.6</td>\n",
       "      <td>NaN</td>\n",
       "      <td>2018</td>\n",
       "    </tr>\n",
       "    <tr>\n",
       "      <th>Cidade2</th>\n",
       "      <td>Campinas</td>\n",
       "      <td>1.8</td>\n",
       "      <td>NaN</td>\n",
       "      <td>2019</td>\n",
       "    </tr>\n",
       "    <tr>\n",
       "      <th>Cidade3</th>\n",
       "      <td>São Paulo</td>\n",
       "      <td>1.9</td>\n",
       "      <td>NaN</td>\n",
       "      <td>2020</td>\n",
       "    </tr>\n",
       "    <tr>\n",
       "      <th>Cidade4</th>\n",
       "      <td>Ribeirão Preto</td>\n",
       "      <td>1.2</td>\n",
       "      <td>NaN</td>\n",
       "      <td>2021</td>\n",
       "    </tr>\n",
       "    <tr>\n",
       "      <th>Cidade5</th>\n",
       "      <td>Jundiaí</td>\n",
       "      <td>1.0</td>\n",
       "      <td>NaN</td>\n",
       "      <td>2022</td>\n",
       "    </tr>\n",
       "  </tbody>\n",
       "</table>\n",
       "</div>"
      ],
      "text/plain": [
       "                 Cidade  Taxa Desemprego Taxa Crescimento   Ano\n",
       "Cidade1        Sorocaba              1.6              NaN  2018\n",
       "Cidade2        Campinas              1.8              NaN  2019\n",
       "Cidade3       São Paulo              1.9              NaN  2020\n",
       "Cidade4  Ribeirão Preto              1.2              NaN  2021\n",
       "Cidade5         Jundiaí              1.0              NaN  2022"
      ]
     },
     "execution_count": 48,
     "metadata": {},
     "output_type": "execute_result"
    }
   ],
   "source": [
    "df2"
   ]
  },
  {
   "cell_type": "code",
   "execution_count": 33,
   "id": "0e9228c0",
   "metadata": {},
   "outputs": [
    {
     "data": {
      "text/plain": [
       "array([['Sorocaba', 1.6, nan, 2018],\n",
       "       ['Campinas', 1.8, nan, 2019],\n",
       "       ['São Paulo', 1.9, nan, 2020],\n",
       "       ['Ribeirão Preto', 1.2, nan, 2021],\n",
       "       ['Jundiaí', 1.0, nan, 2022]], dtype=object)"
      ]
     },
     "execution_count": 33,
     "metadata": {},
     "output_type": "execute_result"
    }
   ],
   "source": [
    "# Mostrar os valores do DataFrame\n",
    "df2.values"
   ]
  },
  {
   "cell_type": "code",
   "execution_count": 34,
   "id": "9447ee2d",
   "metadata": {},
   "outputs": [
    {
     "data": {
      "text/plain": [
       "Cidade               object\n",
       "Taxa Desemprego     float64\n",
       "Taxa Crescimento     object\n",
       "Ano                   int64\n",
       "dtype: object"
      ]
     },
     "execution_count": 34,
     "metadata": {},
     "output_type": "execute_result"
    }
   ],
   "source": [
    "# Mostrar os tipos de dados do DataFrame\n",
    "df2.dtypes"
   ]
  },
  {
   "cell_type": "code",
   "execution_count": 35,
   "id": "fce2a355",
   "metadata": {},
   "outputs": [
    {
     "data": {
      "text/plain": [
       "Index(['Cidade', 'Taxa Desemprego', 'Taxa Crescimento', 'Ano'], dtype='object')"
      ]
     },
     "execution_count": 35,
     "metadata": {},
     "output_type": "execute_result"
    }
   ],
   "source": [
    "# Mostrar as colunas do DataFrame\n",
    "df2.columns"
   ]
  },
  {
   "cell_type": "code",
   "execution_count": 36,
   "id": "44c318c9",
   "metadata": {},
   "outputs": [
    {
     "data": {
      "text/plain": [
       "Cidade1          Sorocaba\n",
       "Cidade2          Campinas\n",
       "Cidade3         São Paulo\n",
       "Cidade4    Ribeirão Preto\n",
       "Cidade5           Jundiaí\n",
       "Name: Cidade, dtype: object"
      ]
     },
     "execution_count": 36,
     "metadata": {},
     "output_type": "execute_result"
    }
   ],
   "source": [
    "# Mostrando apenas uma coluna específica do DataFrame\n",
    "df2['Cidade']\n",
    "#Atenção: a linguagem Python é case sensitive"
   ]
  },
  {
   "cell_type": "code",
   "execution_count": 38,
   "id": "85deaeb0",
   "metadata": {},
   "outputs": [
    {
     "data": {
      "text/html": [
       "<div>\n",
       "<style scoped>\n",
       "    .dataframe tbody tr th:only-of-type {\n",
       "        vertical-align: middle;\n",
       "    }\n",
       "\n",
       "    .dataframe tbody tr th {\n",
       "        vertical-align: top;\n",
       "    }\n",
       "\n",
       "    .dataframe thead th {\n",
       "        text-align: right;\n",
       "    }\n",
       "</style>\n",
       "<table border=\"1\" class=\"dataframe\">\n",
       "  <thead>\n",
       "    <tr style=\"text-align: right;\">\n",
       "      <th></th>\n",
       "      <th>Cidade</th>\n",
       "      <th>Ano</th>\n",
       "    </tr>\n",
       "  </thead>\n",
       "  <tbody>\n",
       "    <tr>\n",
       "      <th>Cidade1</th>\n",
       "      <td>Sorocaba</td>\n",
       "      <td>2018</td>\n",
       "    </tr>\n",
       "    <tr>\n",
       "      <th>Cidade2</th>\n",
       "      <td>Campinas</td>\n",
       "      <td>2019</td>\n",
       "    </tr>\n",
       "    <tr>\n",
       "      <th>Cidade3</th>\n",
       "      <td>São Paulo</td>\n",
       "      <td>2020</td>\n",
       "    </tr>\n",
       "    <tr>\n",
       "      <th>Cidade4</th>\n",
       "      <td>Ribeirão Preto</td>\n",
       "      <td>2021</td>\n",
       "    </tr>\n",
       "    <tr>\n",
       "      <th>Cidade5</th>\n",
       "      <td>Jundiaí</td>\n",
       "      <td>2022</td>\n",
       "    </tr>\n",
       "  </tbody>\n",
       "</table>\n",
       "</div>"
      ],
      "text/plain": [
       "                 Cidade   Ano\n",
       "Cidade1        Sorocaba  2018\n",
       "Cidade2        Campinas  2019\n",
       "Cidade3       São Paulo  2020\n",
       "Cidade4  Ribeirão Preto  2021\n",
       "Cidade5         Jundiaí  2022"
      ]
     },
     "execution_count": 38,
     "metadata": {},
     "output_type": "execute_result"
    }
   ],
   "source": [
    "# Se quiser mostrar mais de uma coluna, terá que passar os nomes das colunas dentro de uma lista.\n",
    "# Por exemplo... vamos mostrar as colunas: Cidade e Ano\n",
    "df2[ ['Cidade', 'Ano']]"
   ]
  },
  {
   "cell_type": "code",
   "execution_count": 42,
   "id": "901897a3",
   "metadata": {},
   "outputs": [
    {
     "data": {
      "text/plain": [
       "Index(['Cidade1', 'Cidade2', 'Cidade3', 'Cidade4', 'Cidade5'], dtype='object')"
      ]
     },
     "execution_count": 42,
     "metadata": {},
     "output_type": "execute_result"
    }
   ],
   "source": [
    "# Para exibir os índices...\n",
    "df2.index"
   ]
  },
  {
   "cell_type": "code",
   "execution_count": 40,
   "id": "fa29af82",
   "metadata": {},
   "outputs": [
    {
     "data": {
      "text/html": [
       "<div>\n",
       "<style scoped>\n",
       "    .dataframe tbody tr th:only-of-type {\n",
       "        vertical-align: middle;\n",
       "    }\n",
       "\n",
       "    .dataframe tbody tr th {\n",
       "        vertical-align: top;\n",
       "    }\n",
       "\n",
       "    .dataframe thead th {\n",
       "        text-align: right;\n",
       "    }\n",
       "</style>\n",
       "<table border=\"1\" class=\"dataframe\">\n",
       "  <thead>\n",
       "    <tr style=\"text-align: right;\">\n",
       "      <th></th>\n",
       "      <th>Cidade</th>\n",
       "      <th>Taxa Desemprego</th>\n",
       "      <th>Taxa Crescimento</th>\n",
       "      <th>Ano</th>\n",
       "    </tr>\n",
       "  </thead>\n",
       "  <tbody>\n",
       "  </tbody>\n",
       "</table>\n",
       "</div>"
      ],
      "text/plain": [
       "Empty DataFrame\n",
       "Columns: [Cidade, Taxa Desemprego, Taxa Crescimento, Ano]\n",
       "Index: []"
      ]
     },
     "execution_count": 40,
     "metadata": {},
     "output_type": "execute_result"
    }
   ],
   "source": [
    "#Filtrando os dados pelo índice\n",
    "df2.filter(items = ['cidade3'], axis = 0)"
   ]
  },
  {
   "cell_type": "markdown",
   "id": "117fcbef",
   "metadata": {},
   "source": [
    "### Usando Pandas com Numpy para Manipular Dados"
   ]
  },
  {
   "cell_type": "code",
   "execution_count": 43,
   "id": "0b0daf05",
   "metadata": {},
   "outputs": [
    {
     "data": {
      "text/html": [
       "<div>\n",
       "<style scoped>\n",
       "    .dataframe tbody tr th:only-of-type {\n",
       "        vertical-align: middle;\n",
       "    }\n",
       "\n",
       "    .dataframe tbody tr th {\n",
       "        vertical-align: top;\n",
       "    }\n",
       "\n",
       "    .dataframe thead th {\n",
       "        text-align: right;\n",
       "    }\n",
       "</style>\n",
       "<table border=\"1\" class=\"dataframe\">\n",
       "  <thead>\n",
       "    <tr style=\"text-align: right;\">\n",
       "      <th></th>\n",
       "      <th>Cidade</th>\n",
       "      <th>Taxa Desemprego</th>\n",
       "      <th>Taxa Crescimento</th>\n",
       "      <th>Ano</th>\n",
       "    </tr>\n",
       "  </thead>\n",
       "  <tbody>\n",
       "    <tr>\n",
       "      <th>Cidade1</th>\n",
       "      <td>Sorocaba</td>\n",
       "      <td>1.6</td>\n",
       "      <td>NaN</td>\n",
       "      <td>2018</td>\n",
       "    </tr>\n",
       "    <tr>\n",
       "      <th>Cidade2</th>\n",
       "      <td>Campinas</td>\n",
       "      <td>1.8</td>\n",
       "      <td>NaN</td>\n",
       "      <td>2019</td>\n",
       "    </tr>\n",
       "    <tr>\n",
       "      <th>Cidade3</th>\n",
       "      <td>São Paulo</td>\n",
       "      <td>1.9</td>\n",
       "      <td>NaN</td>\n",
       "      <td>2020</td>\n",
       "    </tr>\n",
       "    <tr>\n",
       "      <th>Cidade4</th>\n",
       "      <td>Ribeirão Preto</td>\n",
       "      <td>1.2</td>\n",
       "      <td>NaN</td>\n",
       "      <td>2021</td>\n",
       "    </tr>\n",
       "    <tr>\n",
       "      <th>Cidade5</th>\n",
       "      <td>Jundiaí</td>\n",
       "      <td>1.0</td>\n",
       "      <td>NaN</td>\n",
       "      <td>2022</td>\n",
       "    </tr>\n",
       "  </tbody>\n",
       "</table>\n",
       "</div>"
      ],
      "text/plain": [
       "                 Cidade  Taxa Desemprego Taxa Crescimento   Ano\n",
       "Cidade1        Sorocaba              1.6              NaN  2018\n",
       "Cidade2        Campinas              1.8              NaN  2019\n",
       "Cidade3       São Paulo              1.9              NaN  2020\n",
       "Cidade4  Ribeirão Preto              1.2              NaN  2021\n",
       "Cidade5         Jundiaí              1.0              NaN  2022"
      ]
     },
     "execution_count": 43,
     "metadata": {},
     "output_type": "execute_result"
    }
   ],
   "source": [
    "df2.head()"
   ]
  },
  {
   "cell_type": "code",
   "execution_count": 44,
   "id": "6ba67676",
   "metadata": {},
   "outputs": [
    {
     "data": {
      "text/plain": [
       "Cidade               object\n",
       "Taxa Desemprego     float64\n",
       "Taxa Crescimento     object\n",
       "Ano                   int64\n",
       "dtype: object"
      ]
     },
     "execution_count": 44,
     "metadata": {},
     "output_type": "execute_result"
    }
   ],
   "source": [
    "df2.dtypes"
   ]
  },
  {
   "cell_type": "code",
   "execution_count": 45,
   "id": "712ebcab",
   "metadata": {},
   "outputs": [
    {
     "data": {
      "text/html": [
       "<div>\n",
       "<style scoped>\n",
       "    .dataframe tbody tr th:only-of-type {\n",
       "        vertical-align: middle;\n",
       "    }\n",
       "\n",
       "    .dataframe tbody tr th {\n",
       "        vertical-align: top;\n",
       "    }\n",
       "\n",
       "    .dataframe thead th {\n",
       "        text-align: right;\n",
       "    }\n",
       "</style>\n",
       "<table border=\"1\" class=\"dataframe\">\n",
       "  <thead>\n",
       "    <tr style=\"text-align: right;\">\n",
       "      <th></th>\n",
       "      <th>Taxa Desemprego</th>\n",
       "      <th>Ano</th>\n",
       "    </tr>\n",
       "  </thead>\n",
       "  <tbody>\n",
       "    <tr>\n",
       "      <th>count</th>\n",
       "      <td>5.000000</td>\n",
       "      <td>5.000000</td>\n",
       "    </tr>\n",
       "    <tr>\n",
       "      <th>mean</th>\n",
       "      <td>1.500000</td>\n",
       "      <td>2020.000000</td>\n",
       "    </tr>\n",
       "    <tr>\n",
       "      <th>std</th>\n",
       "      <td>0.387298</td>\n",
       "      <td>1.581139</td>\n",
       "    </tr>\n",
       "    <tr>\n",
       "      <th>min</th>\n",
       "      <td>1.000000</td>\n",
       "      <td>2018.000000</td>\n",
       "    </tr>\n",
       "    <tr>\n",
       "      <th>25%</th>\n",
       "      <td>1.200000</td>\n",
       "      <td>2019.000000</td>\n",
       "    </tr>\n",
       "    <tr>\n",
       "      <th>50%</th>\n",
       "      <td>1.600000</td>\n",
       "      <td>2020.000000</td>\n",
       "    </tr>\n",
       "    <tr>\n",
       "      <th>75%</th>\n",
       "      <td>1.800000</td>\n",
       "      <td>2021.000000</td>\n",
       "    </tr>\n",
       "    <tr>\n",
       "      <th>max</th>\n",
       "      <td>1.900000</td>\n",
       "      <td>2022.000000</td>\n",
       "    </tr>\n",
       "  </tbody>\n",
       "</table>\n",
       "</div>"
      ],
      "text/plain": [
       "       Taxa Desemprego          Ano\n",
       "count         5.000000     5.000000\n",
       "mean          1.500000  2020.000000\n",
       "std           0.387298     1.581139\n",
       "min           1.000000  2018.000000\n",
       "25%           1.200000  2019.000000\n",
       "50%           1.600000  2020.000000\n",
       "75%           1.800000  2021.000000\n",
       "max           1.900000  2022.000000"
      ]
     },
     "execution_count": 45,
     "metadata": {},
     "output_type": "execute_result"
    }
   ],
   "source": [
    "# Mostrando o resumo estatístico desse DataFrame\n",
    "df2.describe()\n",
    "# Atenção: O método describe() faz o resumo estatístico apenas das colunas numéricas"
   ]
  },
  {
   "cell_type": "code",
   "execution_count": 46,
   "id": "22173eae",
   "metadata": {},
   "outputs": [
    {
     "data": {
      "text/html": [
       "<div>\n",
       "<style scoped>\n",
       "    .dataframe tbody tr th:only-of-type {\n",
       "        vertical-align: middle;\n",
       "    }\n",
       "\n",
       "    .dataframe tbody tr th {\n",
       "        vertical-align: top;\n",
       "    }\n",
       "\n",
       "    .dataframe thead th {\n",
       "        text-align: right;\n",
       "    }\n",
       "</style>\n",
       "<table border=\"1\" class=\"dataframe\">\n",
       "  <thead>\n",
       "    <tr style=\"text-align: right;\">\n",
       "      <th></th>\n",
       "      <th>Cidade</th>\n",
       "      <th>Taxa Desemprego</th>\n",
       "      <th>Taxa Crescimento</th>\n",
       "      <th>Ano</th>\n",
       "    </tr>\n",
       "  </thead>\n",
       "  <tbody>\n",
       "    <tr>\n",
       "      <th>Cidade1</th>\n",
       "      <td>False</td>\n",
       "      <td>False</td>\n",
       "      <td>True</td>\n",
       "      <td>False</td>\n",
       "    </tr>\n",
       "    <tr>\n",
       "      <th>Cidade2</th>\n",
       "      <td>False</td>\n",
       "      <td>False</td>\n",
       "      <td>True</td>\n",
       "      <td>False</td>\n",
       "    </tr>\n",
       "    <tr>\n",
       "      <th>Cidade3</th>\n",
       "      <td>False</td>\n",
       "      <td>False</td>\n",
       "      <td>True</td>\n",
       "      <td>False</td>\n",
       "    </tr>\n",
       "    <tr>\n",
       "      <th>Cidade4</th>\n",
       "      <td>False</td>\n",
       "      <td>False</td>\n",
       "      <td>True</td>\n",
       "      <td>False</td>\n",
       "    </tr>\n",
       "    <tr>\n",
       "      <th>Cidade5</th>\n",
       "      <td>False</td>\n",
       "      <td>False</td>\n",
       "      <td>True</td>\n",
       "      <td>False</td>\n",
       "    </tr>\n",
       "  </tbody>\n",
       "</table>\n",
       "</div>"
      ],
      "text/plain": [
       "         Cidade  Taxa Desemprego  Taxa Crescimento    Ano\n",
       "Cidade1   False            False              True  False\n",
       "Cidade2   False            False              True  False\n",
       "Cidade3   False            False              True  False\n",
       "Cidade4   False            False              True  False\n",
       "Cidade5   False            False              True  False"
      ]
     },
     "execution_count": 46,
     "metadata": {},
     "output_type": "execute_result"
    }
   ],
   "source": [
    "#Verificando se existem valores NA (not available) no dataFrame\n",
    "df2.isna()"
   ]
  },
  {
   "cell_type": "code",
   "execution_count": 50,
   "id": "ced0ea87-48d1-4fe9-9058-2933709dea17",
   "metadata": {},
   "outputs": [
    {
     "data": {
      "text/plain": [
       "Cidade              0\n",
       "Taxa Desemprego     0\n",
       "Taxa Crescimento    5\n",
       "Ano                 0\n",
       "dtype: int64"
      ]
     },
     "execution_count": 50,
     "metadata": {},
     "output_type": "execute_result"
    }
   ],
   "source": [
    "df2.isna().sum()"
   ]
  },
  {
   "cell_type": "code",
   "execution_count": 51,
   "id": "a19ffa78",
   "metadata": {},
   "outputs": [
    {
     "data": {
      "text/plain": [
       "Cidade1    True\n",
       "Cidade2    True\n",
       "Cidade3    True\n",
       "Cidade4    True\n",
       "Cidade5    True\n",
       "Name: Taxa Crescimento, dtype: bool"
      ]
     },
     "execution_count": 51,
     "metadata": {},
     "output_type": "execute_result"
    }
   ],
   "source": [
    "# Para verificar apenas uma coluna específica...\n",
    "df2['Taxa Crescimento'].isna()"
   ]
  },
  {
   "cell_type": "markdown",
   "id": "2751925a",
   "metadata": {},
   "source": [
    "Vamos utilizar o Numpy para preencher esses valores ausentes."
   ]
  },
  {
   "cell_type": "code",
   "execution_count": 52,
   "id": "8cb9b199",
   "metadata": {},
   "outputs": [],
   "source": [
    "#Importando o NumPy\n",
    "import numpy as np"
   ]
  },
  {
   "cell_type": "code",
   "execution_count": 57,
   "id": "f8cf6663",
   "metadata": {},
   "outputs": [],
   "source": [
    "#Usando o NumPy para alimentar uma das colunas do dataFrame em float\n",
    "df2['Taxa Crescimento'] = np.arange(5.)"
   ]
  },
  {
   "cell_type": "code",
   "execution_count": 58,
   "id": "bca9a11b",
   "metadata": {},
   "outputs": [
    {
     "data": {
      "text/html": [
       "<div>\n",
       "<style scoped>\n",
       "    .dataframe tbody tr th:only-of-type {\n",
       "        vertical-align: middle;\n",
       "    }\n",
       "\n",
       "    .dataframe tbody tr th {\n",
       "        vertical-align: top;\n",
       "    }\n",
       "\n",
       "    .dataframe thead th {\n",
       "        text-align: right;\n",
       "    }\n",
       "</style>\n",
       "<table border=\"1\" class=\"dataframe\">\n",
       "  <thead>\n",
       "    <tr style=\"text-align: right;\">\n",
       "      <th></th>\n",
       "      <th>Cidade</th>\n",
       "      <th>Taxa Desemprego</th>\n",
       "      <th>Taxa Crescimento</th>\n",
       "      <th>Ano</th>\n",
       "    </tr>\n",
       "  </thead>\n",
       "  <tbody>\n",
       "    <tr>\n",
       "      <th>Cidade1</th>\n",
       "      <td>Sorocaba</td>\n",
       "      <td>1.6</td>\n",
       "      <td>0.0</td>\n",
       "      <td>2018</td>\n",
       "    </tr>\n",
       "    <tr>\n",
       "      <th>Cidade2</th>\n",
       "      <td>Campinas</td>\n",
       "      <td>1.8</td>\n",
       "      <td>1.0</td>\n",
       "      <td>2019</td>\n",
       "    </tr>\n",
       "    <tr>\n",
       "      <th>Cidade3</th>\n",
       "      <td>São Paulo</td>\n",
       "      <td>1.9</td>\n",
       "      <td>2.0</td>\n",
       "      <td>2020</td>\n",
       "    </tr>\n",
       "    <tr>\n",
       "      <th>Cidade4</th>\n",
       "      <td>Ribeirão Preto</td>\n",
       "      <td>1.2</td>\n",
       "      <td>3.0</td>\n",
       "      <td>2021</td>\n",
       "    </tr>\n",
       "    <tr>\n",
       "      <th>Cidade5</th>\n",
       "      <td>Jundiaí</td>\n",
       "      <td>1.0</td>\n",
       "      <td>4.0</td>\n",
       "      <td>2022</td>\n",
       "    </tr>\n",
       "  </tbody>\n",
       "</table>\n",
       "</div>"
      ],
      "text/plain": [
       "                 Cidade  Taxa Desemprego  Taxa Crescimento   Ano\n",
       "Cidade1        Sorocaba              1.6               0.0  2018\n",
       "Cidade2        Campinas              1.8               1.0  2019\n",
       "Cidade3       São Paulo              1.9               2.0  2020\n",
       "Cidade4  Ribeirão Preto              1.2               3.0  2021\n",
       "Cidade5         Jundiaí              1.0               4.0  2022"
      ]
     },
     "execution_count": 58,
     "metadata": {},
     "output_type": "execute_result"
    }
   ],
   "source": [
    "df2"
   ]
  },
  {
   "cell_type": "code",
   "execution_count": 59,
   "id": "66126734",
   "metadata": {},
   "outputs": [
    {
     "data": {
      "text/plain": [
       "Cidade1    False\n",
       "Cidade2    False\n",
       "Cidade3    False\n",
       "Cidade4    False\n",
       "Cidade5    False\n",
       "Name: Taxa Crescimento, dtype: bool"
      ]
     },
     "execution_count": 59,
     "metadata": {},
     "output_type": "execute_result"
    }
   ],
   "source": [
    "df2['Taxa Crescimento'].isna()"
   ]
  },
  {
   "cell_type": "code",
   "execution_count": 61,
   "id": "ecb16e36-3d95-413e-9ec5-3b75ecea0e3d",
   "metadata": {},
   "outputs": [
    {
     "data": {
      "text/plain": [
       "Cidade              0\n",
       "Taxa Desemprego     0\n",
       "Taxa Crescimento    0\n",
       "Ano                 0\n",
       "dtype: int64"
      ]
     },
     "execution_count": 61,
     "metadata": {},
     "output_type": "execute_result"
    }
   ],
   "source": [
    "df2.isna().sum()"
   ]
  },
  {
   "cell_type": "code",
   "execution_count": 62,
   "id": "316806a3",
   "metadata": {},
   "outputs": [
    {
     "data": {
      "text/html": [
       "<div>\n",
       "<style scoped>\n",
       "    .dataframe tbody tr th:only-of-type {\n",
       "        vertical-align: middle;\n",
       "    }\n",
       "\n",
       "    .dataframe tbody tr th {\n",
       "        vertical-align: top;\n",
       "    }\n",
       "\n",
       "    .dataframe thead th {\n",
       "        text-align: right;\n",
       "    }\n",
       "</style>\n",
       "<table border=\"1\" class=\"dataframe\">\n",
       "  <thead>\n",
       "    <tr style=\"text-align: right;\">\n",
       "      <th></th>\n",
       "      <th>Taxa Desemprego</th>\n",
       "      <th>Taxa Crescimento</th>\n",
       "      <th>Ano</th>\n",
       "    </tr>\n",
       "  </thead>\n",
       "  <tbody>\n",
       "    <tr>\n",
       "      <th>count</th>\n",
       "      <td>5.000000</td>\n",
       "      <td>5.000000</td>\n",
       "      <td>5.000000</td>\n",
       "    </tr>\n",
       "    <tr>\n",
       "      <th>mean</th>\n",
       "      <td>1.500000</td>\n",
       "      <td>2.000000</td>\n",
       "      <td>2020.000000</td>\n",
       "    </tr>\n",
       "    <tr>\n",
       "      <th>std</th>\n",
       "      <td>0.387298</td>\n",
       "      <td>1.581139</td>\n",
       "      <td>1.581139</td>\n",
       "    </tr>\n",
       "    <tr>\n",
       "      <th>min</th>\n",
       "      <td>1.000000</td>\n",
       "      <td>0.000000</td>\n",
       "      <td>2018.000000</td>\n",
       "    </tr>\n",
       "    <tr>\n",
       "      <th>25%</th>\n",
       "      <td>1.200000</td>\n",
       "      <td>1.000000</td>\n",
       "      <td>2019.000000</td>\n",
       "    </tr>\n",
       "    <tr>\n",
       "      <th>50%</th>\n",
       "      <td>1.600000</td>\n",
       "      <td>2.000000</td>\n",
       "      <td>2020.000000</td>\n",
       "    </tr>\n",
       "    <tr>\n",
       "      <th>75%</th>\n",
       "      <td>1.800000</td>\n",
       "      <td>3.000000</td>\n",
       "      <td>2021.000000</td>\n",
       "    </tr>\n",
       "    <tr>\n",
       "      <th>max</th>\n",
       "      <td>1.900000</td>\n",
       "      <td>4.000000</td>\n",
       "      <td>2022.000000</td>\n",
       "    </tr>\n",
       "  </tbody>\n",
       "</table>\n",
       "</div>"
      ],
      "text/plain": [
       "       Taxa Desemprego  Taxa Crescimento          Ano\n",
       "count         5.000000          5.000000     5.000000\n",
       "mean          1.500000          2.000000  2020.000000\n",
       "std           0.387298          1.581139     1.581139\n",
       "min           1.000000          0.000000  2018.000000\n",
       "25%           1.200000          1.000000  2019.000000\n",
       "50%           1.600000          2.000000  2020.000000\n",
       "75%           1.800000          3.000000  2021.000000\n",
       "max           1.900000          4.000000  2022.000000"
      ]
     },
     "execution_count": 62,
     "metadata": {},
     "output_type": "execute_result"
    }
   ],
   "source": [
    "#Resumo estatístico\n",
    "df2.describe()"
   ]
  },
  {
   "cell_type": "markdown",
   "id": "1af7afa9",
   "metadata": {},
   "source": [
    "### Fatiamento do DataFrame (slicing)"
   ]
  },
  {
   "cell_type": "code",
   "execution_count": 63,
   "id": "1b33362e",
   "metadata": {},
   "outputs": [
    {
     "data": {
      "text/html": [
       "<div>\n",
       "<style scoped>\n",
       "    .dataframe tbody tr th:only-of-type {\n",
       "        vertical-align: middle;\n",
       "    }\n",
       "\n",
       "    .dataframe tbody tr th {\n",
       "        vertical-align: top;\n",
       "    }\n",
       "\n",
       "    .dataframe thead th {\n",
       "        text-align: right;\n",
       "    }\n",
       "</style>\n",
       "<table border=\"1\" class=\"dataframe\">\n",
       "  <thead>\n",
       "    <tr style=\"text-align: right;\">\n",
       "      <th></th>\n",
       "      <th>Cidade</th>\n",
       "      <th>Taxa Desemprego</th>\n",
       "      <th>Taxa Crescimento</th>\n",
       "      <th>Ano</th>\n",
       "    </tr>\n",
       "  </thead>\n",
       "  <tbody>\n",
       "    <tr>\n",
       "      <th>Cidade1</th>\n",
       "      <td>Sorocaba</td>\n",
       "      <td>1.6</td>\n",
       "      <td>0.0</td>\n",
       "      <td>2018</td>\n",
       "    </tr>\n",
       "    <tr>\n",
       "      <th>Cidade2</th>\n",
       "      <td>Campinas</td>\n",
       "      <td>1.8</td>\n",
       "      <td>1.0</td>\n",
       "      <td>2019</td>\n",
       "    </tr>\n",
       "    <tr>\n",
       "      <th>Cidade3</th>\n",
       "      <td>São Paulo</td>\n",
       "      <td>1.9</td>\n",
       "      <td>2.0</td>\n",
       "      <td>2020</td>\n",
       "    </tr>\n",
       "    <tr>\n",
       "      <th>Cidade4</th>\n",
       "      <td>Ribeirão Preto</td>\n",
       "      <td>1.2</td>\n",
       "      <td>3.0</td>\n",
       "      <td>2021</td>\n",
       "    </tr>\n",
       "    <tr>\n",
       "      <th>Cidade5</th>\n",
       "      <td>Jundiaí</td>\n",
       "      <td>1.0</td>\n",
       "      <td>4.0</td>\n",
       "      <td>2022</td>\n",
       "    </tr>\n",
       "  </tbody>\n",
       "</table>\n",
       "</div>"
      ],
      "text/plain": [
       "                 Cidade  Taxa Desemprego  Taxa Crescimento   Ano\n",
       "Cidade1        Sorocaba              1.6               0.0  2018\n",
       "Cidade2        Campinas              1.8               1.0  2019\n",
       "Cidade3       São Paulo              1.9               2.0  2020\n",
       "Cidade4  Ribeirão Preto              1.2               3.0  2021\n",
       "Cidade5         Jundiaí              1.0               4.0  2022"
      ]
     },
     "execution_count": 63,
     "metadata": {},
     "output_type": "execute_result"
    }
   ],
   "source": [
    "# Mostrando todo o dataFrame\n",
    "df2"
   ]
  },
  {
   "cell_type": "code",
   "execution_count": 64,
   "id": "a519f043",
   "metadata": {},
   "outputs": [
    {
     "data": {
      "text/html": [
       "<div>\n",
       "<style scoped>\n",
       "    .dataframe tbody tr th:only-of-type {\n",
       "        vertical-align: middle;\n",
       "    }\n",
       "\n",
       "    .dataframe tbody tr th {\n",
       "        vertical-align: top;\n",
       "    }\n",
       "\n",
       "    .dataframe thead th {\n",
       "        text-align: right;\n",
       "    }\n",
       "</style>\n",
       "<table border=\"1\" class=\"dataframe\">\n",
       "  <thead>\n",
       "    <tr style=\"text-align: right;\">\n",
       "      <th></th>\n",
       "      <th>Cidade</th>\n",
       "      <th>Taxa Desemprego</th>\n",
       "      <th>Taxa Crescimento</th>\n",
       "      <th>Ano</th>\n",
       "    </tr>\n",
       "  </thead>\n",
       "  <tbody>\n",
       "  </tbody>\n",
       "</table>\n",
       "</div>"
      ],
      "text/plain": [
       "Empty DataFrame\n",
       "Columns: [Cidade, Taxa Desemprego, Taxa Crescimento, Ano]\n",
       "Index: []"
      ]
     },
     "execution_count": 64,
     "metadata": {},
     "output_type": "execute_result"
    }
   ],
   "source": [
    "# Fatiando todas as linhas do índice cidade2 até cidade4\n",
    "df2['cidade2':'cidade4']\n",
    "#Atenção: veja que o segundo parâmetro do slice não é exclusivo... ele é incluso no retorno."
   ]
  },
  {
   "cell_type": "code",
   "execution_count": 65,
   "id": "4d630e5e",
   "metadata": {},
   "outputs": [
    {
     "data": {
      "text/html": [
       "<div>\n",
       "<style scoped>\n",
       "    .dataframe tbody tr th:only-of-type {\n",
       "        vertical-align: middle;\n",
       "    }\n",
       "\n",
       "    .dataframe tbody tr th {\n",
       "        vertical-align: top;\n",
       "    }\n",
       "\n",
       "    .dataframe thead th {\n",
       "        text-align: right;\n",
       "    }\n",
       "</style>\n",
       "<table border=\"1\" class=\"dataframe\">\n",
       "  <thead>\n",
       "    <tr style=\"text-align: right;\">\n",
       "      <th></th>\n",
       "      <th>Cidade</th>\n",
       "      <th>Taxa Desemprego</th>\n",
       "      <th>Taxa Crescimento</th>\n",
       "      <th>Ano</th>\n",
       "    </tr>\n",
       "  </thead>\n",
       "  <tbody>\n",
       "    <tr>\n",
       "      <th>Cidade1</th>\n",
       "      <td>Sorocaba</td>\n",
       "      <td>1.6</td>\n",
       "      <td>0.0</td>\n",
       "      <td>2018</td>\n",
       "    </tr>\n",
       "    <tr>\n",
       "      <th>Cidade4</th>\n",
       "      <td>Ribeirão Preto</td>\n",
       "      <td>1.2</td>\n",
       "      <td>3.0</td>\n",
       "      <td>2021</td>\n",
       "    </tr>\n",
       "    <tr>\n",
       "      <th>Cidade5</th>\n",
       "      <td>Jundiaí</td>\n",
       "      <td>1.0</td>\n",
       "      <td>4.0</td>\n",
       "      <td>2022</td>\n",
       "    </tr>\n",
       "  </tbody>\n",
       "</table>\n",
       "</div>"
      ],
      "text/plain": [
       "                 Cidade  Taxa Desemprego  Taxa Crescimento   Ano\n",
       "Cidade1        Sorocaba              1.6               0.0  2018\n",
       "Cidade4  Ribeirão Preto              1.2               3.0  2021\n",
       "Cidade5         Jundiaí              1.0               4.0  2022"
      ]
     },
     "execution_count": 65,
     "metadata": {},
     "output_type": "execute_result"
    }
   ],
   "source": [
    "# Fatiamento do DataFrame com todos os dados onde Taxa de Desemprego for < 1.7\n",
    "df2[ df2['Taxa Desemprego'] < 1.7 ]\n",
    "# Quando eu utilizo colchetes é por que eu quero fatiar meu dataframe."
   ]
  },
  {
   "cell_type": "code",
   "execution_count": 66,
   "id": "aeb3786d",
   "metadata": {},
   "outputs": [
    {
     "data": {
      "text/html": [
       "<div>\n",
       "<style scoped>\n",
       "    .dataframe tbody tr th:only-of-type {\n",
       "        vertical-align: middle;\n",
       "    }\n",
       "\n",
       "    .dataframe tbody tr th {\n",
       "        vertical-align: top;\n",
       "    }\n",
       "\n",
       "    .dataframe thead th {\n",
       "        text-align: right;\n",
       "    }\n",
       "</style>\n",
       "<table border=\"1\" class=\"dataframe\">\n",
       "  <thead>\n",
       "    <tr style=\"text-align: right;\">\n",
       "      <th></th>\n",
       "      <th>Taxa Crescimento</th>\n",
       "      <th>Taxa Desemprego</th>\n",
       "    </tr>\n",
       "  </thead>\n",
       "  <tbody>\n",
       "    <tr>\n",
       "      <th>Cidade1</th>\n",
       "      <td>0.0</td>\n",
       "      <td>1.6</td>\n",
       "    </tr>\n",
       "    <tr>\n",
       "      <th>Cidade2</th>\n",
       "      <td>1.0</td>\n",
       "      <td>1.8</td>\n",
       "    </tr>\n",
       "    <tr>\n",
       "      <th>Cidade3</th>\n",
       "      <td>2.0</td>\n",
       "      <td>1.9</td>\n",
       "    </tr>\n",
       "    <tr>\n",
       "      <th>Cidade4</th>\n",
       "      <td>3.0</td>\n",
       "      <td>1.2</td>\n",
       "    </tr>\n",
       "    <tr>\n",
       "      <th>Cidade5</th>\n",
       "      <td>4.0</td>\n",
       "      <td>1.0</td>\n",
       "    </tr>\n",
       "  </tbody>\n",
       "</table>\n",
       "</div>"
      ],
      "text/plain": [
       "         Taxa Crescimento  Taxa Desemprego\n",
       "Cidade1               0.0              1.6\n",
       "Cidade2               1.0              1.8\n",
       "Cidade3               2.0              1.9\n",
       "Cidade4               3.0              1.2\n",
       "Cidade5               4.0              1.0"
      ]
     },
     "execution_count": 66,
     "metadata": {},
     "output_type": "execute_result"
    }
   ],
   "source": [
    "# Para fatiar por mais de uma coluna, temos que passar as colunas em uma lista python\n",
    "df2[ ['Taxa Crescimento', 'Taxa Desemprego'] ]"
   ]
  },
  {
   "cell_type": "code",
   "execution_count": null,
   "id": "d3111f81-a2a0-486d-929b-5cf9e3ff42b8",
   "metadata": {},
   "outputs": [],
   "source": []
  }
 ],
 "metadata": {
  "kernelspec": {
   "display_name": "Python 3 (ipykernel)",
   "language": "python",
   "name": "python3"
  },
  "language_info": {
   "codemirror_mode": {
    "name": "ipython",
    "version": 3
   },
   "file_extension": ".py",
   "mimetype": "text/x-python",
   "name": "python",
   "nbconvert_exporter": "python",
   "pygments_lexer": "ipython3",
   "version": "3.11.7"
  }
 },
 "nbformat": 4,
 "nbformat_minor": 5
}
