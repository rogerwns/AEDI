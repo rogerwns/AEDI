{
 "cells": [
  {
   "cell_type": "markdown",
   "id": "9697d49f",
   "metadata": {},
   "source": [
    "# AULA 15 - Noções de Numpy\n",
    "## Algoritmos e Estrutura de Dados I"
   ]
  },
  {
   "cell_type": "code",
   "execution_count": 58,
   "id": "bd5d012a-2487-4d05-8896-a8d5aba02e30",
   "metadata": {},
   "outputs": [],
   "source": []
  },
  {
   "cell_type": "code",
   "execution_count": 1,
   "id": "bd103f35",
   "metadata": {},
   "outputs": [],
   "source": [
    "#importando o NumPy\n",
    "import numpy as np"
   ]
  },
  {
   "cell_type": "code",
   "execution_count": 6,
   "id": "34f8807c",
   "metadata": {},
   "outputs": [
    {
     "data": {
      "text/plain": [
       "'1.26.4'"
      ]
     },
     "execution_count": 6,
     "metadata": {},
     "output_type": "execute_result"
    }
   ],
   "source": [
    "#verificando a versão do numpy\n",
    "np.__version__"
   ]
  },
  {
   "cell_type": "code",
   "execution_count": null,
   "id": "7f7d1d62",
   "metadata": {},
   "outputs": [],
   "source": [
    "# Para instalação de uma versão exata de um pacote Python\n",
    "# !pip install numpy==1.21.5"
   ]
  },
  {
   "cell_type": "markdown",
   "id": "023a5e39",
   "metadata": {},
   "source": [
    "### Criando Arrays Numpy"
   ]
  },
  {
   "cell_type": "code",
   "execution_count": 7,
   "id": "a385ad12",
   "metadata": {},
   "outputs": [],
   "source": [
    "#Criando um Array a partir de uma lista Python\n",
    "array1 = np.array([2, 5, 10, 34, 23, 9, 73, 21, 6])"
   ]
  },
  {
   "cell_type": "code",
   "execution_count": 8,
   "id": "aab7a98d",
   "metadata": {},
   "outputs": [
    {
     "name": "stdout",
     "output_type": "stream",
     "text": [
      "[ 2  5 10 34 23  9 73 21  6]\n"
     ]
    }
   ],
   "source": [
    "print(array1) # não é separado por vírgulas e uma lista sim"
   ]
  },
  {
   "cell_type": "code",
   "execution_count": 9,
   "id": "555ac1dc",
   "metadata": {},
   "outputs": [
    {
     "data": {
      "text/plain": [
       "numpy.ndarray"
      ]
     },
     "execution_count": 9,
     "metadata": {},
     "output_type": "execute_result"
    }
   ],
   "source": [
    "#Conformando o tipo de dados do array criado\n",
    "type(array1)"
   ]
  },
  {
   "cell_type": "code",
   "execution_count": 11,
   "id": "16dccae0",
   "metadata": {},
   "outputs": [
    {
     "data": {
      "text/plain": [
       "(9,)"
      ]
     },
     "execution_count": 11,
     "metadata": {},
     "output_type": "execute_result"
    }
   ],
   "source": [
    "#ndarray - n dimensional array - array de dimensão n\n",
    "\n",
    "\n",
    "#Vamos ver o formato (shape) desse array\n",
    "array1.shape"
   ]
  },
  {
   "cell_type": "code",
   "execution_count": null,
   "id": "e024d02f",
   "metadata": {},
   "outputs": [],
   "source": [
    "# Os arrays são estruturas de dados muito mais eficientes do que os tipos básicos da linguagem Python."
   ]
  },
  {
   "cell_type": "markdown",
   "id": "62adc950",
   "metadata": {},
   "source": [
    "### Indexação em Arrays NumPy"
   ]
  },
  {
   "cell_type": "code",
   "execution_count": 27,
   "id": "49c5c787",
   "metadata": {},
   "outputs": [
    {
     "name": "stdout",
     "output_type": "stream",
     "text": [
      "[200   5  10  34  23   9  73  21   6]\n"
     ]
    }
   ],
   "source": [
    "print(array1)"
   ]
  },
  {
   "cell_type": "code",
   "execution_count": 13,
   "id": "77a32eb0",
   "metadata": {},
   "outputs": [
    {
     "data": {
      "text/plain": [
       "9"
      ]
     },
     "execution_count": 13,
     "metadata": {},
     "output_type": "execute_result"
    }
   ],
   "source": [
    "array1[5]"
   ]
  },
  {
   "cell_type": "code",
   "execution_count": 26,
   "id": "18a3622d",
   "metadata": {},
   "outputs": [
    {
     "data": {
      "text/plain": [
       "array([ 5, 10, 34])"
      ]
     },
     "execution_count": 26,
     "metadata": {},
     "output_type": "execute_result"
    }
   ],
   "source": [
    "# A indexação inicia com ZERO.\n",
    "\n",
    "# Também posso fazer o fatiamento:\n",
    "array1[1:4]"
   ]
  },
  {
   "cell_type": "code",
   "execution_count": 25,
   "id": "faa3fd91",
   "metadata": {},
   "outputs": [],
   "source": [
    "# criando uma lista de índices\n",
    "indices = [1, 3, 6, 8]"
   ]
  },
  {
   "cell_type": "code",
   "execution_count": 24,
   "id": "3934396f",
   "metadata": {},
   "outputs": [
    {
     "data": {
      "text/plain": [
       "array([ 5, 34, 73,  6])"
      ]
     },
     "execution_count": 24,
     "metadata": {},
     "output_type": "execute_result"
    }
   ],
   "source": [
    "# Imprimindo os lementos com os respectivos índices:\n",
    "array1[indices]"
   ]
  },
  {
   "cell_type": "code",
   "execution_count": 17,
   "id": "92c610fc",
   "metadata": {},
   "outputs": [],
   "source": [
    "# Criando uma máscara (no caso vamos criar uma máscara booleana para os elementos pares)\n",
    "mascara = (array1 % 2 == 0)"
   ]
  },
  {
   "cell_type": "code",
   "execution_count": 23,
   "id": "32fc4ffa",
   "metadata": {},
   "outputs": [
    {
     "data": {
      "text/plain": [
       "array([ True, False,  True,  True, False, False, False, False,  True])"
      ]
     },
     "execution_count": 23,
     "metadata": {},
     "output_type": "execute_result"
    }
   ],
   "source": [
    "# Vamos ver a máscara criada...\n",
    "mascara"
   ]
  },
  {
   "cell_type": "code",
   "execution_count": 19,
   "id": "0d215098",
   "metadata": {},
   "outputs": [
    {
     "data": {
      "text/plain": [
       "array([ 2, 10, 34,  6])"
      ]
     },
     "execution_count": 19,
     "metadata": {},
     "output_type": "execute_result"
    }
   ],
   "source": [
    "# Vamos utilizar a máscara criada como indexador. No caso, ele vai retornar os elementos cujos índices forem verdadeiros.\n",
    "# Ou seja... vai retornar todos os valore que são pares.\n",
    "array1[mascara]"
   ]
  },
  {
   "cell_type": "code",
   "execution_count": 21,
   "id": "cf18dd3f",
   "metadata": {},
   "outputs": [],
   "source": [
    "# Utilizamos a indexação também para fazer a substituição de valores...\n",
    "array1[0] = 200"
   ]
  },
  {
   "cell_type": "code",
   "execution_count": 22,
   "id": "84c52a0e",
   "metadata": {},
   "outputs": [
    {
     "data": {
      "text/plain": [
       "array([200,   5,  10,  34,  23,   9,  73,  21,   6])"
      ]
     },
     "execution_count": 22,
     "metadata": {},
     "output_type": "execute_result"
    }
   ],
   "source": [
    "array1"
   ]
  },
  {
   "cell_type": "code",
   "execution_count": null,
   "id": "fcb887c7",
   "metadata": {},
   "outputs": [],
   "source": [
    "# Atenção!!!\n",
    "# Não é possível incluir elementos de outros tipos de dados.\n",
    "# Arrays NumPy são todos do mesmo tipo de dado."
   ]
  },
  {
   "cell_type": "markdown",
   "id": "4399ab51",
   "metadata": {},
   "source": [
    "### Funções NumPy"
   ]
  },
  {
   "cell_type": "code",
   "execution_count": 28,
   "id": "94eb87af",
   "metadata": {},
   "outputs": [],
   "source": [
    "# A função array() cria um array NumPy\n",
    "array2 = np.array([1,2,3,4,5])"
   ]
  },
  {
   "cell_type": "code",
   "execution_count": 29,
   "id": "e6f35ddf",
   "metadata": {},
   "outputs": [
    {
     "name": "stdout",
     "output_type": "stream",
     "text": [
      "[1 2 3 4 5]\n"
     ]
    }
   ],
   "source": [
    "print(array2)"
   ]
  },
  {
   "cell_type": "code",
   "execution_count": 30,
   "id": "b21f248d",
   "metadata": {},
   "outputs": [
    {
     "data": {
      "text/plain": [
       "(5,)"
      ]
     },
     "execution_count": 30,
     "metadata": {},
     "output_type": "execute_result"
    }
   ],
   "source": [
    "array2.shape"
   ]
  },
  {
   "cell_type": "code",
   "execution_count": 31,
   "id": "1f548569",
   "metadata": {},
   "outputs": [
    {
     "data": {
      "text/plain": [
       "array([1, 2, 3, 4, 5])"
      ]
     },
     "execution_count": 31,
     "metadata": {},
     "output_type": "execute_result"
    }
   ],
   "source": [
    "# array2 agora é um objeto do tipo nd.array... e portanto possuem uma série de métodos associados a este objeto.\n",
    "# para visualizar os métodos... digite o nome... ponto... e tecle tab.\n",
    "array2"
   ]
  },
  {
   "cell_type": "code",
   "execution_count": 32,
   "id": "04bbc745",
   "metadata": {},
   "outputs": [
    {
     "data": {
      "text/plain": [
       "array([ 1,  3,  6, 10, 15])"
      ]
     },
     "execution_count": 32,
     "metadata": {},
     "output_type": "execute_result"
    }
   ],
   "source": [
    "#Usando os métodos do array NumPy...\n",
    "#cumsum --> soma acumulada\n",
    "array2.cumsum()"
   ]
  },
  {
   "cell_type": "code",
   "execution_count": 33,
   "id": "3a95ebcc",
   "metadata": {},
   "outputs": [
    {
     "data": {
      "text/plain": [
       "array([  1,   2,   6,  24, 120])"
      ]
     },
     "execution_count": 33,
     "metadata": {},
     "output_type": "execute_result"
    }
   ],
   "source": [
    "#cumprod --> produto acumulado\n",
    "array2.cumprod()"
   ]
  },
  {
   "cell_type": "code",
   "execution_count": null,
   "id": "fc5210ce",
   "metadata": {},
   "outputs": [],
   "source": [
    "# Para verificar as funções disponíveis em NumPy... digite o alias (np) seguido de ponto e tab.\n",
    "np"
   ]
  },
  {
   "cell_type": "code",
   "execution_count": 34,
   "id": "2899c9c4",
   "metadata": {},
   "outputs": [],
   "source": [
    "# Função arange --> cria um array NumPy contendo uma progressão aritmética a partir de um intervalo: inicio, fim, passo.\n",
    "array3 = np.arange(0, 40, 4) "
   ]
  },
  {
   "cell_type": "code",
   "execution_count": 36,
   "id": "d59b78c5",
   "metadata": {},
   "outputs": [
    {
     "data": {
      "text/plain": [
       "array([ 0,  4,  8, 12, 16, 20, 24, 28, 32, 36])"
      ]
     },
     "execution_count": 36,
     "metadata": {},
     "output_type": "execute_result"
    }
   ],
   "source": [
    "array3"
   ]
  },
  {
   "cell_type": "code",
   "execution_count": 37,
   "id": "6125b309",
   "metadata": {},
   "outputs": [],
   "source": [
    "# Criar um array preenchido com zeros\n",
    "array4 = np.zeros(7)"
   ]
  },
  {
   "cell_type": "code",
   "execution_count": 38,
   "id": "db0a984f",
   "metadata": {},
   "outputs": [
    {
     "data": {
      "text/plain": [
       "array([0., 0., 0., 0., 0., 0., 0.])"
      ]
     },
     "execution_count": 38,
     "metadata": {},
     "output_type": "execute_result"
    }
   ],
   "source": [
    "array4"
   ]
  },
  {
   "cell_type": "code",
   "execution_count": 44,
   "id": "bc5462fa",
   "metadata": {},
   "outputs": [],
   "source": [
    "# Criar uma matriz diagonal... 1 nas posições em diagonal e zero nas demais posições\n",
    "array5 = np.eye(5)"
   ]
  },
  {
   "cell_type": "code",
   "execution_count": 45,
   "id": "b4018a5f",
   "metadata": {},
   "outputs": [
    {
     "name": "stdout",
     "output_type": "stream",
     "text": [
      "[[1. 0. 0. 0. 0.]\n",
      " [0. 1. 0. 0. 0.]\n",
      " [0. 0. 1. 0. 0.]\n",
      " [0. 0. 0. 1. 0.]\n",
      " [0. 0. 0. 0. 1.]]\n"
     ]
    }
   ],
   "source": [
    "print(array5)"
   ]
  },
  {
   "cell_type": "code",
   "execution_count": 41,
   "id": "45d8612b",
   "metadata": {},
   "outputs": [],
   "source": [
    "# Podemos passar como parâmetro um array numpy para que o mesmo seja utilizado como diagonal...\n",
    "array6 = np.diag(np.array([1,2,3,4]))"
   ]
  },
  {
   "cell_type": "code",
   "execution_count": 42,
   "id": "31b3af1f",
   "metadata": {},
   "outputs": [
    {
     "name": "stdout",
     "output_type": "stream",
     "text": [
      "[[1 0 0 0]\n",
      " [0 2 0 0]\n",
      " [0 0 3 0]\n",
      " [0 0 0 4]]\n"
     ]
    }
   ],
   "source": [
    "print(array6)"
   ]
  },
  {
   "cell_type": "code",
   "execution_count": 46,
   "id": "6ab3f1c7",
   "metadata": {},
   "outputs": [],
   "source": [
    "# Criação de um array numpy de valores booleanos\n",
    "array7 = np.array([True, False, False, True])"
   ]
  },
  {
   "cell_type": "code",
   "execution_count": 47,
   "id": "f7059bf2",
   "metadata": {},
   "outputs": [
    {
     "name": "stdout",
     "output_type": "stream",
     "text": [
      "[ True False False  True]\n"
     ]
    }
   ],
   "source": [
    "print(array7)"
   ]
  },
  {
   "cell_type": "code",
   "execution_count": 48,
   "id": "a52ce955",
   "metadata": {},
   "outputs": [],
   "source": [
    "# Criação de um array numpy de strings\n",
    "array8 = np.array(['pyPRO', 'Python', 'Profissional'])"
   ]
  },
  {
   "cell_type": "code",
   "execution_count": 49,
   "id": "3cae5a0e",
   "metadata": {},
   "outputs": [
    {
     "name": "stdout",
     "output_type": "stream",
     "text": [
      "['pyPRO' 'Python' 'Profissional']\n"
     ]
    }
   ],
   "source": [
    "print(array8)"
   ]
  },
  {
   "cell_type": "markdown",
   "id": "2f296fd0",
   "metadata": {},
   "source": [
    "A função linspace() do NumPy é usada para criar uma sequência de números igualmente espaçados dentro de um intervalo especificado. Igualmente distribuidos no intervalo especificado.  Quando você não especificar a quantidade de números a ser gerado, o padrão é gerar 50 números no intervalo."
   ]
  },
  {
   "cell_type": "code",
   "execution_count": 50,
   "id": "abda2cae",
   "metadata": {},
   "outputs": [
    {
     "name": "stdout",
     "output_type": "stream",
     "text": [
      "[ 0.          0.20408163  0.40816327  0.6122449   0.81632653  1.02040816\n",
      "  1.2244898   1.42857143  1.63265306  1.83673469  2.04081633  2.24489796\n",
      "  2.44897959  2.65306122  2.85714286  3.06122449  3.26530612  3.46938776\n",
      "  3.67346939  3.87755102  4.08163265  4.28571429  4.48979592  4.69387755\n",
      "  4.89795918  5.10204082  5.30612245  5.51020408  5.71428571  5.91836735\n",
      "  6.12244898  6.32653061  6.53061224  6.73469388  6.93877551  7.14285714\n",
      "  7.34693878  7.55102041  7.75510204  7.95918367  8.16326531  8.36734694\n",
      "  8.57142857  8.7755102   8.97959184  9.18367347  9.3877551   9.59183673\n",
      "  9.79591837 10.        ]\n"
     ]
    }
   ],
   "source": [
    "print(np.linspace(0, 10)) #espaçamento linear"
   ]
  },
  {
   "cell_type": "code",
   "execution_count": 52,
   "id": "11b72d8b",
   "metadata": {},
   "outputs": [
    {
     "name": "stdout",
     "output_type": "stream",
     "text": [
      "[ 0.          0.71428571  1.42857143  2.14285714  2.85714286  3.57142857\n",
      "  4.28571429  5.          5.71428571  6.42857143  7.14285714  7.85714286\n",
      "  8.57142857  9.28571429 10.        ]\n"
     ]
    }
   ],
   "source": [
    "print(np.linspace(0, 10, 15))"
   ]
  },
  {
   "cell_type": "markdown",
   "id": "01795ae4",
   "metadata": {},
   "source": [
    "Muito útil para inicializar uma matriz de pesos, em uma rede neural."
   ]
  },
  {
   "cell_type": "markdown",
   "id": "9243331e",
   "metadata": {},
   "source": [
    "A função logspace() é semelhante, só que cria uma sequencia de números espaçados logaritmicamente, dentro de um intervalo especificado."
   ]
  },
  {
   "cell_type": "code",
   "execution_count": null,
   "id": "e6067b2d",
   "metadata": {},
   "outputs": [],
   "source": [
    "print(np.logspace(0, 10, 15))"
   ]
  },
  {
   "cell_type": "markdown",
   "id": "05583967",
   "metadata": {},
   "source": [
    "### Manipulação de Matrizes com NumPy"
   ]
  },
  {
   "cell_type": "code",
   "execution_count": 59,
   "id": "454b4afc",
   "metadata": {},
   "outputs": [],
   "source": [
    "# Criando uma matriz com listas Python\n",
    "array9 = np.array([[1,2,3],[4,5,6]])"
   ]
  },
  {
   "cell_type": "code",
   "execution_count": 60,
   "id": "4caf92f6",
   "metadata": {},
   "outputs": [
    {
     "data": {
      "text/plain": [
       "numpy.ndarray"
      ]
     },
     "execution_count": 60,
     "metadata": {},
     "output_type": "execute_result"
    }
   ],
   "source": [
    "type(array9)"
   ]
  },
  {
   "cell_type": "code",
   "execution_count": 61,
   "id": "63e38e09",
   "metadata": {},
   "outputs": [
    {
     "name": "stdout",
     "output_type": "stream",
     "text": [
      "[[1 2 3]\n",
      " [4 5 6]]\n"
     ]
    }
   ],
   "source": [
    "print(array9)"
   ]
  },
  {
   "cell_type": "code",
   "execution_count": 62,
   "id": "ecc71338",
   "metadata": {},
   "outputs": [
    {
     "name": "stdout",
     "output_type": "stream",
     "text": [
      "(2, 3)\n"
     ]
    }
   ],
   "source": [
    "print(array9.shape)"
   ]
  },
  {
   "cell_type": "code",
   "execution_count": 63,
   "id": "d067b9f4",
   "metadata": {},
   "outputs": [],
   "source": [
    "# Criando uma matriz preenchida com \"1\"\n",
    "array10 = np.ones((2,3))"
   ]
  },
  {
   "cell_type": "code",
   "execution_count": 64,
   "id": "7a58d575",
   "metadata": {},
   "outputs": [
    {
     "name": "stdout",
     "output_type": "stream",
     "text": [
      "[[1. 1. 1.]\n",
      " [1. 1. 1.]]\n"
     ]
    }
   ],
   "source": [
    "print(array10)"
   ]
  },
  {
   "cell_type": "code",
   "execution_count": 65,
   "id": "b83bf26b",
   "metadata": {},
   "outputs": [
    {
     "name": "stdout",
     "output_type": "stream",
     "text": [
      "(2, 3)\n"
     ]
    }
   ],
   "source": [
    "print(array10.shape)"
   ]
  },
  {
   "cell_type": "code",
   "execution_count": 71,
   "id": "8ba711d4",
   "metadata": {},
   "outputs": [],
   "source": [
    "# Criando uma matriz a partir de uma lista de listas....\n",
    "# Primeiro: vamos criar uma lista de listas\n",
    "lista = [[1,2,3], [4,5,6], [7,8,9]]\n",
    "\n",
    "# Em seguida, passamos como parãmetro essa lista de listas para a função matrix\n",
    "array11 = np.matrix(lista)"
   ]
  },
  {
   "cell_type": "code",
   "execution_count": 75,
   "id": "9381d9f9",
   "metadata": {},
   "outputs": [
    {
     "name": "stdout",
     "output_type": "stream",
     "text": [
      "[[1 2 3]\n",
      " [4 5 6]\n",
      " [7 8 9]]\n"
     ]
    },
    {
     "data": {
      "text/plain": [
       "[[1, 2, 3], [4, 5, 6], [7, 8, 9]]"
      ]
     },
     "execution_count": 75,
     "metadata": {},
     "output_type": "execute_result"
    }
   ],
   "source": [
    "print(array11)\n",
    "lista"
   ]
  },
  {
   "cell_type": "code",
   "execution_count": 76,
   "id": "dbe497b8",
   "metadata": {},
   "outputs": [
    {
     "name": "stdout",
     "output_type": "stream",
     "text": [
      "(3, 3)\n"
     ]
    }
   ],
   "source": [
    "print(array11.shape)"
   ]
  },
  {
   "cell_type": "code",
   "execution_count": 77,
   "id": "3bf4713e",
   "metadata": {},
   "outputs": [
    {
     "data": {
      "text/plain": [
       "numpy.matrix"
      ]
     },
     "execution_count": 77,
     "metadata": {},
     "output_type": "execute_result"
    }
   ],
   "source": [
    "type(array11)"
   ]
  },
  {
   "cell_type": "code",
   "execution_count": 78,
   "id": "66c247e9",
   "metadata": {},
   "outputs": [
    {
     "data": {
      "text/plain": [
       "9"
      ]
     },
     "execution_count": 78,
     "metadata": {},
     "output_type": "execute_result"
    }
   ],
   "source": [
    "# Tamanho da matriz\n",
    "array11.size"
   ]
  },
  {
   "cell_type": "code",
   "execution_count": 79,
   "id": "f1f41f33",
   "metadata": {},
   "outputs": [
    {
     "name": "stdout",
     "output_type": "stream",
     "text": [
      "int32\n"
     ]
    }
   ],
   "source": [
    "# Verificando o tipo de dado\n",
    "print(array11.dtype)"
   ]
  },
  {
   "cell_type": "code",
   "execution_count": 80,
   "id": "5748e342",
   "metadata": {},
   "outputs": [
    {
     "name": "stdout",
     "output_type": "stream",
     "text": [
      "[[1 2 3]\n",
      " [4 5 6]\n",
      " [7 8 9]]\n",
      "8\n"
     ]
    }
   ],
   "source": [
    "# Indexação em matrizes\n",
    "print(array11)\n",
    "\n",
    "# Vamos retornar apenas o elemento 2, 1 (terceira linha e segunda coluna)\n",
    "print(array11[2, 1])"
   ]
  },
  {
   "cell_type": "code",
   "execution_count": 81,
   "id": "38b20791",
   "metadata": {},
   "outputs": [
    {
     "name": "stdout",
     "output_type": "stream",
     "text": [
      "[[3]\n",
      " [6]]\n"
     ]
    }
   ],
   "source": [
    "# Retornando um range de números...\n",
    "print(array11[0:2, 2])"
   ]
  },
  {
   "cell_type": "code",
   "execution_count": 86,
   "id": "ebf6ca75",
   "metadata": {},
   "outputs": [
    {
     "name": "stdout",
     "output_type": "stream",
     "text": [
      "[[200   5   6]]\n"
     ]
    }
   ],
   "source": [
    "# Também posso, por exclusão, retornar todos os elementos daquela dimensão.\n",
    "# Exemplo: retornar todos os elementos da linha 2 (índice 1)\n",
    "print(array11[1,])"
   ]
  },
  {
   "cell_type": "code",
   "execution_count": 83,
   "id": "4e076aac",
   "metadata": {},
   "outputs": [],
   "source": [
    "# Para alterar um elemento de uma matriz... \n",
    "array11[1,0] = 200"
   ]
  },
  {
   "cell_type": "code",
   "execution_count": 84,
   "id": "e0da9c2b",
   "metadata": {},
   "outputs": [
    {
     "name": "stdout",
     "output_type": "stream",
     "text": [
      "[[  1   2   3]\n",
      " [200   5   6]\n",
      " [  7   8   9]]\n"
     ]
    }
   ],
   "source": [
    "print(array11)"
   ]
  },
  {
   "cell_type": "code",
   "execution_count": 89,
   "id": "dd3532e7",
   "metadata": {},
   "outputs": [],
   "source": [
    "# Caso não haja a definição de um tipo de dados, o NumPy vai fazer uma inferência com os dados e assim associar um tipo\n",
    "# mais próximo do tipo de dado.\n",
    "x = np.array([1,2])   # vai decidir para um tipo inteiro\n",
    "y = np.array([1.0, 2.0])  # vai decidir para um tipo float\n",
    "z = np.array([1,2], dtype = np.float64)  # estamos forçando o numpy a associar o tipo float aqui."
   ]
  },
  {
   "cell_type": "code",
   "execution_count": 90,
   "id": "b73b84ee",
   "metadata": {},
   "outputs": [
    {
     "name": "stdout",
     "output_type": "stream",
     "text": [
      "int32 float64 float64\n"
     ]
    }
   ],
   "source": [
    "print(x.dtype, y.dtype, z.dtype)"
   ]
  },
  {
   "cell_type": "markdown",
   "id": "80aea770",
   "metadata": {},
   "source": [
    "Para verificar o número de bytes de ocupação de um array na memória utilizamos o atributo itemsize. O total de bytes, você pode consultar com nbytes. E o número de dimensões é conseguido com o atributo: ndim"
   ]
  },
  {
   "cell_type": "code",
   "execution_count": 91,
   "id": "7ef86afc",
   "metadata": {},
   "outputs": [
    {
     "data": {
      "text/plain": [
       "4"
      ]
     },
     "execution_count": 91,
     "metadata": {},
     "output_type": "execute_result"
    }
   ],
   "source": [
    "array11.itemsize\n"
   ]
  },
  {
   "cell_type": "code",
   "execution_count": 95,
   "id": "250cd76f",
   "metadata": {},
   "outputs": [
    {
     "name": "stdout",
     "output_type": "stream",
     "text": [
      "[[  1   2   3]\n",
      " [200   5   6]\n",
      " [  7   8   9]]\n"
     ]
    },
    {
     "data": {
      "text/plain": [
       "36"
      ]
     },
     "execution_count": 95,
     "metadata": {},
     "output_type": "execute_result"
    }
   ],
   "source": [
    "print(array11)\n",
    "array11.nbytes"
   ]
  },
  {
   "cell_type": "code",
   "execution_count": 93,
   "id": "f279e09e",
   "metadata": {},
   "outputs": [
    {
     "data": {
      "text/plain": [
       "2"
      ]
     },
     "execution_count": 93,
     "metadata": {},
     "output_type": "execute_result"
    }
   ],
   "source": [
    "array11.ndim"
   ]
  },
  {
   "cell_type": "markdown",
   "id": "ebed5013",
   "metadata": {},
   "source": [
    "### Estatística Básica com NumPy"
   ]
  },
  {
   "cell_type": "code",
   "execution_count": 96,
   "id": "7ad27ada",
   "metadata": {},
   "outputs": [],
   "source": [
    "array15 = np.array([1, 23, 45, 12, 56, 87])"
   ]
  },
  {
   "cell_type": "code",
   "execution_count": 97,
   "id": "940a21f9",
   "metadata": {},
   "outputs": [
    {
     "name": "stdout",
     "output_type": "stream",
     "text": [
      "37.333333333333336\n"
     ]
    }
   ],
   "source": [
    "# Em estatística, média é uma medida de tendência central que representa o valor central de um conjunto de dados.\n",
    "print(np.mean(array15))"
   ]
  },
  {
   "cell_type": "markdown",
   "id": "69490275",
   "metadata": {},
   "source": [
    "Em probabilidade, o desvio padrão ou desvio padrão populacional é uma medida de dispersão em torno da média populacional de uma variável aleatória. O termo possui também uma acepção específica no campo da estatística, na qual também é chamado de desvio padrão amostral  e indica uma medida de dispersão dos dados em torno de média amostral. Um baixo desvio padrão indica que os pontos dos dados tendem a estar próximos da média ou do valor esperado. Um alto desvio padrão indica que os pontos dos dados estão espalhados por uma ampla gama de valores. \n",
    "O desvio padrão é amplamente utilizado em ciência de dados para avaliar a consistência dos dados e comparar conjuntos de dados diferentes."
   ]
  },
  {
   "cell_type": "code",
   "execution_count": 98,
   "id": "1467c8b5",
   "metadata": {},
   "outputs": [
    {
     "name": "stdout",
     "output_type": "stream",
     "text": [
      "28.986586936412888\n"
     ]
    }
   ],
   "source": [
    "# Desvio Padrão (standard desviation )\n",
    "print(np.std(array15))"
   ]
  },
  {
   "cell_type": "markdown",
   "id": "764d4adf",
   "metadata": {},
   "source": [
    "Variância é uma medida estatística que quantifica dos valores em um conjunto de dados em relação à média. Indica \"o quão longe\" em geral os seus valores se encontram do valor esperado.  O desvio padrão pode ser influenciado por valores extremos (outliers)."
   ]
  },
  {
   "cell_type": "code",
   "execution_count": 99,
   "id": "36bd65d7",
   "metadata": {},
   "outputs": [
    {
     "name": "stdout",
     "output_type": "stream",
     "text": [
      "840.2222222222223\n"
     ]
    }
   ],
   "source": [
    "# Cálculo da variância\n",
    "print(np.var(array15))"
   ]
  },
  {
   "cell_type": "markdown",
   "id": "3471bc10",
   "metadata": {},
   "source": [
    "Note que o valor da variância não se encontra na mesma \"medida\" do desvio padrão e das amostras. É utilizado para calcular matriz de covariância e coeficiente de correlação."
   ]
  },
  {
   "cell_type": "markdown",
   "id": "152b6eae",
   "metadata": {},
   "source": [
    "### Operações Matemáticas utilizando Arrays NumPy"
   ]
  },
  {
   "cell_type": "code",
   "execution_count": 100,
   "id": "08c9e485",
   "metadata": {},
   "outputs": [],
   "source": [
    "array16 = np.arange(1, 10)"
   ]
  },
  {
   "cell_type": "code",
   "execution_count": 101,
   "id": "48e33773",
   "metadata": {},
   "outputs": [
    {
     "name": "stdout",
     "output_type": "stream",
     "text": [
      "[1 2 3 4 5 6 7 8 9]\n"
     ]
    }
   ],
   "source": [
    "print(array16)"
   ]
  },
  {
   "cell_type": "code",
   "execution_count": 102,
   "id": "f55dcecb",
   "metadata": {},
   "outputs": [
    {
     "name": "stdout",
     "output_type": "stream",
     "text": [
      "45\n"
     ]
    }
   ],
   "source": [
    "# Soma os elementos de um array\n",
    "print(np.sum(array16))"
   ]
  },
  {
   "cell_type": "code",
   "execution_count": 103,
   "id": "90af0cbc",
   "metadata": {},
   "outputs": [
    {
     "name": "stdout",
     "output_type": "stream",
     "text": [
      "362880\n"
     ]
    }
   ],
   "source": [
    "# Calcula o produto dos elementos de um array\n",
    "print(np.prod(array16))"
   ]
  },
  {
   "cell_type": "code",
   "execution_count": 104,
   "id": "6806a7d3",
   "metadata": {},
   "outputs": [
    {
     "name": "stdout",
     "output_type": "stream",
     "text": [
      "[ 1  3  6 10 15 21 28 36 45]\n"
     ]
    }
   ],
   "source": [
    "# Soma acumulado dos elementos de um array\n",
    "print(np.cumsum(array16))"
   ]
  },
  {
   "cell_type": "code",
   "execution_count": 105,
   "id": "42837221",
   "metadata": {},
   "outputs": [
    {
     "name": "stdout",
     "output_type": "stream",
     "text": [
      "[4 4 4]\n"
     ]
    }
   ],
   "source": [
    "# Criando dois Arrays...\n",
    "array17 = np.array([1,2,3])\n",
    "array18 = np.array([3,2,1])\n",
    "\n",
    "# Soma dos arrays\n",
    "array19 = np.add(array17, array18)\n",
    "print(array19)"
   ]
  },
  {
   "cell_type": "code",
   "execution_count": 106,
   "id": "b236387c",
   "metadata": {},
   "outputs": [
    {
     "name": "stdout",
     "output_type": "stream",
     "text": [
      "10\n"
     ]
    }
   ],
   "source": [
    "# Para multiplicar duas matrizes numpy, podemos fazer com a função dot()\n",
    "array20 = np.dot(array17, array18)\n",
    "print(array20)"
   ]
  },
  {
   "cell_type": "markdown",
   "id": "10224371",
   "metadata": {},
   "source": [
    "Para podermos multiplicar duas matrizes, o número de colunas da primeira, tem que ser igual ao número de linhas da segunda."
   ]
  },
  {
   "cell_type": "markdown",
   "id": "956a06de",
   "metadata": {},
   "source": [
    "# FIM"
   ]
  }
 ],
 "metadata": {
  "kernelspec": {
   "display_name": "Python 3 (ipykernel)",
   "language": "python",
   "name": "python3"
  },
  "language_info": {
   "codemirror_mode": {
    "name": "ipython",
    "version": 3
   },
   "file_extension": ".py",
   "mimetype": "text/x-python",
   "name": "python",
   "nbconvert_exporter": "python",
   "pygments_lexer": "ipython3",
   "version": "3.11.7"
  }
 },
 "nbformat": 4,
 "nbformat_minor": 5
}
