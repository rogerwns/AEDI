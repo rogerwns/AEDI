{
 "cells": [
  {
   "cell_type": "code",
   "execution_count": 1,
   "id": "91b959b2",
   "metadata": {},
   "outputs": [
    {
     "name": "stdout",
     "output_type": "stream",
     "text": [
      "Roger\n"
     ]
    }
   ],
   "source": [
    "# Inicializando a variável tipo String - Texto\n",
    "nome = 'Roger'\n",
    "print(nome)"
   ]
  },
  {
   "cell_type": "code",
   "execution_count": 5,
   "id": "6ba8b9dc",
   "metadata": {},
   "outputs": [
    {
     "name": "stdout",
     "output_type": "stream",
     "text": [
      "Meu nome é Roger\n"
     ]
    }
   ],
   "source": [
    "print('Meu nome é',nome)"
   ]
  },
  {
   "cell_type": "code",
   "execution_count": 8,
   "id": "d869a781",
   "metadata": {},
   "outputs": [
    {
     "name": "stdout",
     "output_type": "stream",
     "text": [
      "R\n"
     ]
    }
   ],
   "source": [
    "print(nome[0])"
   ]
  },
  {
   "cell_type": "code",
   "execution_count": 12,
   "id": "5d5ec50f",
   "metadata": {},
   "outputs": [
    {
     "name": "stdout",
     "output_type": "stream",
     "text": [
      "e\n"
     ]
    },
    {
     "data": {
      "text/plain": [
       "str"
      ]
     },
     "execution_count": 12,
     "metadata": {},
     "output_type": "execute_result"
    }
   ],
   "source": [
    "print(nome[3])\n",
    "type(nome)"
   ]
  }
 ],
 "metadata": {
  "kernelspec": {
   "display_name": "Python 3 (ipykernel)",
   "language": "python",
   "name": "python3"
  },
  "language_info": {
   "codemirror_mode": {
    "name": "ipython",
    "version": 3
   },
   "file_extension": ".py",
   "mimetype": "text/x-python",
   "name": "python",
   "nbconvert_exporter": "python",
   "pygments_lexer": "ipython3",
   "version": "3.11.5"
  }
 },
 "nbformat": 4,
 "nbformat_minor": 5
}
